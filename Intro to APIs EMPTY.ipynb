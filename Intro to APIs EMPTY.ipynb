{
 "cells": [
  {
   "cell_type": "markdown",
   "id": "7196054f",
   "metadata": {},
   "source": [
    "# Working with APIs"
   ]
  },
  {
   "cell_type": "markdown",
   "id": "0547b71e",
   "metadata": {},
   "source": [
    "API stands for Application programming interface<br>\n",
    "APIs are a way for applications to talk to eachother<br>\n",
    "In python we use the requests package to handle the connection<br>\n",
    "<small><strong>Note: It is requests with an s not request(this is a different package)</strong></small><br>\n",
    "Most API's communicate with data in the form of JSON<br>\n",
    "JSON stands for JavaScript Object Notation"
   ]
  },
  {
   "cell_type": "code",
   "execution_count": 7,
   "id": "4db9d154",
   "metadata": {},
   "outputs": [],
   "source": [
    "#import the packages we need:\n",
    "import requests as r"
   ]
  },
  {
   "cell_type": "markdown",
   "id": "e8c2ce51",
   "metadata": {},
   "source": [
    "We will be connecting to the Ergast F1 Racer API today:\n",
    "http://ergast.com/mrd/\n",
    "\n",
    "to view JSON data nicely in the Chrome browser install the extension JSONview"
   ]
  },
  {
   "cell_type": "code",
   "execution_count": 5,
   "id": "52c440c6",
   "metadata": {},
   "outputs": [],
   "source": [
    "# help(requests)"
   ]
  },
  {
   "cell_type": "code",
   "execution_count": 14,
   "id": "f60c1b4a",
   "metadata": {},
   "outputs": [
    {
     "name": "stdout",
     "output_type": "stream",
     "text": [
      "<Response [200]>\n",
      "<class 'requests.models.Response'>\n"
     ]
    }
   ],
   "source": [
    "response = r.get('https://ergast.com/api/f1/2022/5/driverStandings.json')\n",
    "print(response)\n",
    "print(type(response))"
   ]
  },
  {
   "cell_type": "code",
   "execution_count": 15,
   "id": "7b63a204",
   "metadata": {},
   "outputs": [
    {
     "data": {
      "text/plain": [
       "True"
      ]
     },
     "execution_count": 15,
     "metadata": {},
     "output_type": "execute_result"
    }
   ],
   "source": [
    "#response object\n",
    "response.ok # checks if the response was successful and ok\n"
   ]
  },
  {
   "cell_type": "code",
   "execution_count": 18,
   "id": "c6d1fdaf",
   "metadata": {},
   "outputs": [
    {
     "name": "stdout",
     "output_type": "stream",
     "text": [
      "{'MRData': {'xmlns': 'http://ergast.com/mrd/1.5', 'series': 'f1', 'url': 'http://ergast.com/api/f1/2022/5/driverstandings.json', 'limit': '30', 'offset': '0', 'total': '21', 'StandingsTable': {'season': '2022', 'round': '5', 'StandingsLists': [{'season': '2022', 'round': '5', 'DriverStandings': [{'position': '1', 'positionText': '1', 'points': '104', 'wins': '2', 'Driver': {'driverId': 'leclerc', 'permanentNumber': '16', 'code': 'LEC', 'url': 'http://en.wikipedia.org/wiki/Charles_Leclerc', 'givenName': 'Charles', 'familyName': 'Leclerc', 'dateOfBirth': '1997-10-16', 'nationality': 'Monegasque'}, 'Constructors': [{'constructorId': 'ferrari', 'url': 'http://en.wikipedia.org/wiki/Scuderia_Ferrari', 'name': 'Ferrari', 'nationality': 'Italian'}]}, {'position': '2', 'positionText': '2', 'points': '85', 'wins': '3', 'Driver': {'driverId': 'max_verstappen', 'permanentNumber': '33', 'code': 'VER', 'url': 'http://en.wikipedia.org/wiki/Max_Verstappen', 'givenName': 'Max', 'familyName': 'Verstappen', 'dateOfBirth': '1997-09-30', 'nationality': 'Dutch'}, 'Constructors': [{'constructorId': 'red_bull', 'url': 'http://en.wikipedia.org/wiki/Red_Bull_Racing', 'name': 'Red Bull', 'nationality': 'Austrian'}]}, {'position': '3', 'positionText': '3', 'points': '66', 'wins': '0', 'Driver': {'driverId': 'perez', 'permanentNumber': '11', 'code': 'PER', 'url': 'http://en.wikipedia.org/wiki/Sergio_P%C3%A9rez', 'givenName': 'Sergio', 'familyName': 'Pérez', 'dateOfBirth': '1990-01-26', 'nationality': 'Mexican'}, 'Constructors': [{'constructorId': 'red_bull', 'url': 'http://en.wikipedia.org/wiki/Red_Bull_Racing', 'name': 'Red Bull', 'nationality': 'Austrian'}]}, {'position': '4', 'positionText': '4', 'points': '59', 'wins': '0', 'Driver': {'driverId': 'russell', 'permanentNumber': '63', 'code': 'RUS', 'url': 'http://en.wikipedia.org/wiki/George_Russell_%28racing_driver%29', 'givenName': 'George', 'familyName': 'Russell', 'dateOfBirth': '1998-02-15', 'nationality': 'British'}, 'Constructors': [{'constructorId': 'mercedes', 'url': 'http://en.wikipedia.org/wiki/Mercedes-Benz_in_Formula_One', 'name': 'Mercedes', 'nationality': 'German'}]}, {'position': '5', 'positionText': '5', 'points': '53', 'wins': '0', 'Driver': {'driverId': 'sainz', 'permanentNumber': '55', 'code': 'SAI', 'url': 'http://en.wikipedia.org/wiki/Carlos_Sainz_Jr.', 'givenName': 'Carlos', 'familyName': 'Sainz', 'dateOfBirth': '1994-09-01', 'nationality': 'Spanish'}, 'Constructors': [{'constructorId': 'ferrari', 'url': 'http://en.wikipedia.org/wiki/Scuderia_Ferrari', 'name': 'Ferrari', 'nationality': 'Italian'}]}, {'position': '6', 'positionText': '6', 'points': '36', 'wins': '0', 'Driver': {'driverId': 'hamilton', 'permanentNumber': '44', 'code': 'HAM', 'url': 'http://en.wikipedia.org/wiki/Lewis_Hamilton', 'givenName': 'Lewis', 'familyName': 'Hamilton', 'dateOfBirth': '1985-01-07', 'nationality': 'British'}, 'Constructors': [{'constructorId': 'mercedes', 'url': 'http://en.wikipedia.org/wiki/Mercedes-Benz_in_Formula_One', 'name': 'Mercedes', 'nationality': 'German'}]}, {'position': '7', 'positionText': '7', 'points': '35', 'wins': '0', 'Driver': {'driverId': 'norris', 'permanentNumber': '4', 'code': 'NOR', 'url': 'http://en.wikipedia.org/wiki/Lando_Norris', 'givenName': 'Lando', 'familyName': 'Norris', 'dateOfBirth': '1999-11-13', 'nationality': 'British'}, 'Constructors': [{'constructorId': 'mclaren', 'url': 'http://en.wikipedia.org/wiki/McLaren', 'name': 'McLaren', 'nationality': 'British'}]}, {'position': '8', 'positionText': '8', 'points': '30', 'wins': '0', 'Driver': {'driverId': 'bottas', 'permanentNumber': '77', 'code': 'BOT', 'url': 'http://en.wikipedia.org/wiki/Valtteri_Bottas', 'givenName': 'Valtteri', 'familyName': 'Bottas', 'dateOfBirth': '1989-08-28', 'nationality': 'Finnish'}, 'Constructors': [{'constructorId': 'alfa', 'url': 'http://en.wikipedia.org/wiki/Alfa_Romeo_in_Formula_One', 'name': 'Alfa Romeo', 'nationality': 'Swiss'}]}, {'position': '9', 'positionText': '9', 'points': '24', 'wins': '0', 'Driver': {'driverId': 'ocon', 'permanentNumber': '31', 'code': 'OCO', 'url': 'http://en.wikipedia.org/wiki/Esteban_Ocon', 'givenName': 'Esteban', 'familyName': 'Ocon', 'dateOfBirth': '1996-09-17', 'nationality': 'French'}, 'Constructors': [{'constructorId': 'alpine', 'url': 'http://en.wikipedia.org/wiki/Alpine_F1_Team', 'name': 'Alpine F1 Team', 'nationality': 'French'}]}, {'position': '10', 'positionText': '10', 'points': '15', 'wins': '0', 'Driver': {'driverId': 'kevin_magnussen', 'permanentNumber': '20', 'code': 'MAG', 'url': 'http://en.wikipedia.org/wiki/Kevin_Magnussen', 'givenName': 'Kevin', 'familyName': 'Magnussen', 'dateOfBirth': '1992-10-05', 'nationality': 'Danish'}, 'Constructors': [{'constructorId': 'haas', 'url': 'http://en.wikipedia.org/wiki/Haas_F1_Team', 'name': 'Haas F1 Team', 'nationality': 'American'}]}, {'position': '11', 'positionText': '11', 'points': '11', 'wins': '0', 'Driver': {'driverId': 'ricciardo', 'permanentNumber': '3', 'code': 'RIC', 'url': 'http://en.wikipedia.org/wiki/Daniel_Ricciardo', 'givenName': 'Daniel', 'familyName': 'Ricciardo', 'dateOfBirth': '1989-07-01', 'nationality': 'Australian'}, 'Constructors': [{'constructorId': 'mclaren', 'url': 'http://en.wikipedia.org/wiki/McLaren', 'name': 'McLaren', 'nationality': 'British'}]}, {'position': '12', 'positionText': '12', 'points': '10', 'wins': '0', 'Driver': {'driverId': 'tsunoda', 'permanentNumber': '22', 'code': 'TSU', 'url': 'http://en.wikipedia.org/wiki/Yuki_Tsunoda', 'givenName': 'Yuki', 'familyName': 'Tsunoda', 'dateOfBirth': '2000-05-11', 'nationality': 'Japanese'}, 'Constructors': [{'constructorId': 'alphatauri', 'url': 'http://en.wikipedia.org/wiki/Scuderia_AlphaTauri', 'name': 'AlphaTauri', 'nationality': 'Italian'}]}, {'position': '13', 'positionText': '13', 'points': '6', 'wins': '0', 'Driver': {'driverId': 'gasly', 'permanentNumber': '10', 'code': 'GAS', 'url': 'http://en.wikipedia.org/wiki/Pierre_Gasly', 'givenName': 'Pierre', 'familyName': 'Gasly', 'dateOfBirth': '1996-02-07', 'nationality': 'French'}, 'Constructors': [{'constructorId': 'alphatauri', 'url': 'http://en.wikipedia.org/wiki/Scuderia_AlphaTauri', 'name': 'AlphaTauri', 'nationality': 'Italian'}]}, {'position': '14', 'positionText': '14', 'points': '4', 'wins': '0', 'Driver': {'driverId': 'vettel', 'permanentNumber': '5', 'code': 'VET', 'url': 'http://en.wikipedia.org/wiki/Sebastian_Vettel', 'givenName': 'Sebastian', 'familyName': 'Vettel', 'dateOfBirth': '1987-07-03', 'nationality': 'German'}, 'Constructors': [{'constructorId': 'aston_martin', 'url': 'http://en.wikipedia.org/wiki/Aston_Martin_in_Formula_One', 'name': 'Aston Martin', 'nationality': 'British'}]}, {'position': '15', 'positionText': '15', 'points': '3', 'wins': '0', 'Driver': {'driverId': 'albon', 'permanentNumber': '23', 'code': 'ALB', 'url': 'http://en.wikipedia.org/wiki/Alexander_Albon', 'givenName': 'Alexander', 'familyName': 'Albon', 'dateOfBirth': '1996-03-23', 'nationality': 'Thai'}, 'Constructors': [{'constructorId': 'williams', 'url': 'http://en.wikipedia.org/wiki/Williams_Grand_Prix_Engineering', 'name': 'Williams', 'nationality': 'British'}]}, {'position': '16', 'positionText': '16', 'points': '2', 'wins': '0', 'Driver': {'driverId': 'alonso', 'permanentNumber': '14', 'code': 'ALO', 'url': 'http://en.wikipedia.org/wiki/Fernando_Alonso', 'givenName': 'Fernando', 'familyName': 'Alonso', 'dateOfBirth': '1981-07-29', 'nationality': 'Spanish'}, 'Constructors': [{'constructorId': 'alpine', 'url': 'http://en.wikipedia.org/wiki/Alpine_F1_Team', 'name': 'Alpine F1 Team', 'nationality': 'French'}]}, {'position': '17', 'positionText': '17', 'points': '2', 'wins': '0', 'Driver': {'driverId': 'stroll', 'permanentNumber': '18', 'code': 'STR', 'url': 'http://en.wikipedia.org/wiki/Lance_Stroll', 'givenName': 'Lance', 'familyName': 'Stroll', 'dateOfBirth': '1998-10-29', 'nationality': 'Canadian'}, 'Constructors': [{'constructorId': 'aston_martin', 'url': 'http://en.wikipedia.org/wiki/Aston_Martin_in_Formula_One', 'name': 'Aston Martin', 'nationality': 'British'}]}, {'position': '18', 'positionText': '18', 'points': '1', 'wins': '0', 'Driver': {'driverId': 'zhou', 'permanentNumber': '24', 'code': 'ZHO', 'url': 'http://en.wikipedia.org/wiki/Guanyu_Zhou', 'givenName': 'Guanyu', 'familyName': 'Zhou', 'dateOfBirth': '1999-05-30', 'nationality': 'Chinese'}, 'Constructors': [{'constructorId': 'alfa', 'url': 'http://en.wikipedia.org/wiki/Alfa_Romeo_in_Formula_One', 'name': 'Alfa Romeo', 'nationality': 'Swiss'}]}, {'position': '19', 'positionText': '19', 'points': '0', 'wins': '0', 'Driver': {'driverId': 'mick_schumacher', 'permanentNumber': '47', 'code': 'MSC', 'url': 'http://en.wikipedia.org/wiki/Mick_Schumacher', 'givenName': 'Mick', 'familyName': 'Schumacher', 'dateOfBirth': '1999-03-22', 'nationality': 'German'}, 'Constructors': [{'constructorId': 'haas', 'url': 'http://en.wikipedia.org/wiki/Haas_F1_Team', 'name': 'Haas F1 Team', 'nationality': 'American'}]}, {'position': '20', 'positionText': '20', 'points': '0', 'wins': '0', 'Driver': {'driverId': 'hulkenberg', 'permanentNumber': '27', 'code': 'HUL', 'url': 'http://en.wikipedia.org/wiki/Nico_H%C3%BClkenberg', 'givenName': 'Nico', 'familyName': 'Hülkenberg', 'dateOfBirth': '1987-08-19', 'nationality': 'German'}, 'Constructors': [{'constructorId': 'aston_martin', 'url': 'http://en.wikipedia.org/wiki/Aston_Martin_in_Formula_One', 'name': 'Aston Martin', 'nationality': 'British'}]}, {'position': '21', 'positionText': '21', 'points': '0', 'wins': '0', 'Driver': {'driverId': 'latifi', 'permanentNumber': '6', 'code': 'LAT', 'url': 'http://en.wikipedia.org/wiki/Nicholas_Latifi', 'givenName': 'Nicholas', 'familyName': 'Latifi', 'dateOfBirth': '1995-06-29', 'nationality': 'Canadian'}, 'Constructors': [{'constructorId': 'williams', 'url': 'http://en.wikipedia.org/wiki/Williams_Grand_Prix_Engineering', 'name': 'Williams', 'nationality': 'British'}]}]}]}}}\n"
     ]
    }
   ],
   "source": [
    "#check and make sure we got a successful response from the API\n",
    "\n",
    "if response.ok:\n",
    "    data = response.json()\n",
    "    print(data)"
   ]
  },
  {
   "cell_type": "code",
   "execution_count": 4,
   "id": "ed4d3256",
   "metadata": {},
   "outputs": [],
   "source": [
    "#view the response as a JSON\n",
    "# see above"
   ]
  },
  {
   "cell_type": "code",
   "execution_count": null,
   "id": "92e6cd2c",
   "metadata": {},
   "outputs": [],
   "source": []
  },
  {
   "cell_type": "code",
   "execution_count": 22,
   "id": "f074dfcf",
   "metadata": {},
   "outputs": [
    {
     "name": "stdout",
     "output_type": "stream",
     "text": [
      "Charles Leclerc\n",
      "Max Verstappen\n",
      "Sergio Pérez\n",
      "George Russell\n",
      "Carlos Sainz\n",
      "Lewis Hamilton\n",
      "Lando Norris\n",
      "Valtteri Bottas\n",
      "Esteban Ocon\n",
      "Kevin Magnussen\n",
      "Daniel Ricciardo\n",
      "Yuki Tsunoda\n",
      "Pierre Gasly\n",
      "Sebastian Vettel\n",
      "Alexander Albon\n",
      "Fernando Alonso\n",
      "Lance Stroll\n",
      "Guanyu Zhou\n",
      "Mick Schumacher\n",
      "Nico Hülkenberg\n",
      "Nicholas Latifi\n"
     ]
    }
   ],
   "source": [
    "# We only want the Driver Standings\n",
    "standings = data['MRData']['StandingsTable']['StandingsLists'][0]['DriverStandings']\n",
    "for entry in standings:\n",
    "    name = f\"{entry['Driver']['givenName']} {entry['Driver']['familyName']}\"\n",
    "    print(name)"
   ]
  },
  {
   "cell_type": "code",
   "execution_count": null,
   "id": "be46a950",
   "metadata": {},
   "outputs": [],
   "source": []
  },
  {
   "cell_type": "code",
   "execution_count": null,
   "id": "3740c752",
   "metadata": {},
   "outputs": [],
   "source": []
  },
  {
   "cell_type": "markdown",
   "id": "6d546014",
   "metadata": {},
   "source": [
    "# <strong>Homework</strong>\n",
    "check out this Pokemon API https://pokeapi.co/\n",
    "Use the requests package to connect to this API and get and store data for 5 different pokemon.\n",
    "Get the pokemons: name, atleast one ability's name, base_experience, and the URL for its sprite (an image that shows up on screen) for the 'front_shiny', attack base_state, hp base_stat, defense base_stat"
   ]
  },
  {
   "cell_type": "code",
   "execution_count": 24,
   "id": "5a9081e3",
   "metadata": {},
   "outputs": [
    {
     "name": "stdout",
     "output_type": "stream",
     "text": [
      "\n",
      "Welcome to your Pokedex!\n",
      "What Pokemon would you like to see? (May enter either Pokemon name or number [1-905]) pikachu\n",
      "\n",
      "Pokemon Name: Pikachu\n",
      "\n",
      "ABILITIES\n",
      "Main Ability: Static\n",
      "Secondary Ability: Lightning-Rod\n",
      "\n",
      "STATS:\n",
      "Base Experience: 112\n",
      "Base Attack Stat: 55\n",
      "Base Defesnse Stat: 40\n",
      "Base HP: 35\n",
      "\n",
      "Picture of Pokemon (SHINY): https://raw.githubusercontent.com/PokeAPI/sprites/master/sprites/pokemon/shiny/25.png\n",
      "\n",
      "Would you like to see another Pokemon? (Y/N) n\n",
      "\n",
      "Gotta catch em' all!\n"
     ]
    }
   ],
   "source": [
    "import requests as r\n",
    "\n",
    "pokemon_data = {}\n",
    "\n",
    "class showPokemon():\n",
    "\n",
    "    def __init__(self):\n",
    "        self.poke_data = {}\n",
    "        self.pokemon = {}\n",
    "\n",
    "        \n",
    "    def getPokemon(self):\n",
    "            pokemon = input('What Pokemon would you like to see? (May enter either Pokemon name or number [1-905]) ')\n",
    "            if pokemon:\n",
    "                response = r.get(f'https://pokeapi.co/api/v2/pokemon/{pokemon}')\n",
    "                if response.ok:\n",
    "                    poke_data = response.json()\n",
    "                    self.poke_data = poke_data\n",
    "                else:\n",
    "                    print('\\nInvalid Pokemon! Please enter a Pokemon or Pokemon ID to proceed!')\n",
    "                    self.getPokemon()\n",
    "            else:\n",
    "                print('\\nNo response given! Please enter a Pokemon or Pokemon ID to proceed!')\n",
    "                self.getPokemon()\n",
    " \n",
    "    def pokemonData(self):\n",
    "        for entry in self.poke_data:\n",
    "            name = self.poke_data['name'].title()\n",
    "            self.pokemon['name'] = name \n",
    "            ability = self.poke_data['abilities'][0]['ability']['name'].title()\n",
    "            self.pokemon['ability'] = ability \n",
    "            ability2 = self.poke_data['abilities'][1]['ability']['name'].title()\n",
    "            self.pokemon['ability2'] = ability2 \n",
    "            base_exp = self.poke_data['base_experience']\n",
    "            self.pokemon['base_exp'] = base_exp \n",
    "            front_shiny = self.poke_data['sprites']['front_shiny']\n",
    "            self.pokemon['front_shiny'] = front_shiny\n",
    "            attack_stat = self.poke_data['stats'][1]['base_stat']\n",
    "            self.pokemon['attack_stat'] = attack_stat\n",
    "            hp_stat = self.poke_data['stats'][0]['base_stat']\n",
    "            self.pokemon['hp_stat'] = hp_stat\n",
    "            defense_stat = self.poke_data['stats'][2]['base_stat']\n",
    "            self.pokemon['defense_stat'] = defense_stat\n",
    "\n",
    "\n",
    "    \n",
    "    def runProgram(self):\n",
    "        print('\\nWelcome to your Pokedex!')\n",
    "        self.getPokemon()\n",
    "        self.pokemonData()\n",
    "        print(f\"\\nPokemon Name: {self.pokemon['name']}\")\n",
    "        print('\\nABILITIES')\n",
    "        print(f\"Main Ability: {self.pokemon['ability']}\")\n",
    "        print(f\"Secondary Ability: {self.pokemon['ability2']}\")\n",
    "        print('\\nSTATS:')\n",
    "        print(f\"Base Experience: {self.pokemon['base_exp']}\")\n",
    "        print(f\"Base Attack Stat: {self.pokemon['attack_stat']}\")\n",
    "        print(f\"Base Defesnse Stat: {self.pokemon['defense_stat']}\")\n",
    "        print(f\"Base HP: {self.pokemon['hp_stat']}\")\n",
    "        print(f\"\\nPicture of Pokemon (SHINY): {self.pokemon['front_shiny']}\")\n",
    "        self.replayProgram()\n",
    "\n",
    "    def replayProgram(self):\n",
    "        replay = input('\\nWould you like to see another Pokemon? (Y/N) ')\n",
    "        if replay.lower() == 'y':\n",
    "            self.runProgram()\n",
    "        elif replay.lower() == 'n':\n",
    "            print(\"\\nGotta catch em' all!\")\n",
    "        else:\n",
    "            print('\\nInvalid response! Please enter either \"Y\" or \"N\".')\n",
    "            self.replayProgram()\n",
    "        \n",
    "my_pokemon = showPokemon()\n",
    "my_pokemon.runProgram()"
   ]
  }
 ],
 "metadata": {
  "kernelspec": {
   "display_name": "Python 3 (ipykernel)",
   "language": "python",
   "name": "python3"
  },
  "language_info": {
   "codemirror_mode": {
    "name": "ipython",
    "version": 3
   },
   "file_extension": ".py",
   "mimetype": "text/x-python",
   "name": "python",
   "nbconvert_exporter": "python",
   "pygments_lexer": "ipython3",
   "version": "3.9.12"
  }
 },
 "nbformat": 4,
 "nbformat_minor": 5
}
